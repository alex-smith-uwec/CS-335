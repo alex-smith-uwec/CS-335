{
 "cells": [
  {
   "cell_type": "code",
   "execution_count": 86,
   "id": "2c3426ff-2643-4180-a05f-b84c6f264f46",
   "metadata": {},
   "outputs": [],
   "source": [
    "from sympy import nextprime\n",
    "from math import log as ln\n"
   ]
  },
  {
   "cell_type": "code",
   "execution_count": 87,
   "id": "3e06f8f4-ecd9-4f3d-8912-ead1c81fd122",
   "metadata": {},
   "outputs": [],
   "source": [
    "p=nextprime(10056)"
   ]
  },
  {
   "cell_type": "code",
   "execution_count": 88,
   "id": "b0485605-ae4f-42a1-8796-b4ddfb651651",
   "metadata": {},
   "outputs": [],
   "source": [
    "q=nextprime(32345)"
   ]
  },
  {
   "cell_type": "code",
   "execution_count": 97,
   "id": "5042454d-d8f2-4cdd-bb09-33a29c7f7dfe",
   "metadata": {},
   "outputs": [
    {
     "name": "stdout",
     "output_type": "stream",
     "text": [
      "N=2370973191756907047126193214697018555181223505270229022839458896215721890831605173096186377260588781\n",
      "avg_gap by PNT=ln(N)=228.0\n",
      "gap from N to next prime=426\n"
     ]
    }
   ],
   "source": [
    "import random\n",
    "\n",
    "# Generate a random 100-digit integer\n",
    "N=random.randint(10**99, 10**100 - 1)\n",
    "\n",
    "print(f\"N={N}\") \n",
    "print(f\"avg_gap by PNT=ln(N)={ln(N)//1}\")\n",
    "\n",
    "print(f\"gap from N to next prime={nextprime(N)-N}\")"
   ]
  },
  {
   "cell_type": "code",
   "execution_count": 98,
   "id": "a88231e6-436a-45e9-ba4a-dc2bd55006d9",
   "metadata": {},
   "outputs": [
    {
     "name": "stdout",
     "output_type": "stream",
     "text": [
      "9666198897712336938319361446354706791997469814253263775878975687883816153982295304933452254496311529\n",
      "3683902020237464664974747106804364399262988564379632498602921567375661773576734827937834450064220193\n"
     ]
    }
   ],
   "source": [
    "n=random.randint(10**99,10**100)\n",
    "m=random.randint(10**99,10**100)\n",
    "print(n)\n",
    "print(m)"
   ]
  },
  {
   "cell_type": "code",
   "execution_count": 99,
   "id": "11e41d28-44d2-4c66-9c48-9c7a5aabff6d",
   "metadata": {},
   "outputs": [
    {
     "name": "stdout",
     "output_type": "stream",
     "text": [
      "p=9666198897712336938319361446354706791997469814253263775878975687883816153982295304933452254496311797\n",
      "q=3683902020237464664974747106804364399262988564379632498602921567375661773576734827937834450064220283\n",
      "N=pq=35609329647299632108819840906389658598739017577793151824708237823359796159863219358576908112050938660419530984650553050046634807674707815846269185980725554153584014700087500550060320118747816059578551\n"
     ]
    }
   ],
   "source": [
    "p=nextprime(n)\n",
    "q=nextprime(m)\n",
    "N=p*q\n",
    "print(f\"p={p}\")\n",
    "print(f\"q={q}\")\n",
    "print(f\"N=pq={N}\")"
   ]
  },
  {
   "cell_type": "code",
   "execution_count": 100,
   "id": "d7588222-1922-4478-8e27-4f1b042e2f5f",
   "metadata": {},
   "outputs": [
    {
     "data": {
      "text/plain": [
       "8378665799364619319722315507385802023232710018304271017578408899614069684673698672606331320482573799310454133341353281588829706944855676373131954670077477569808649280143428939065926411167320352716817"
      ]
     },
     "execution_count": 100,
     "metadata": {},
     "output_type": "execute_result"
    }
   ],
   "source": [
    "e=17\n",
    "d=pow(e,-1,(p-1)*(q-1))\n",
    "d"
   ]
  },
  {
   "cell_type": "code",
   "execution_count": 101,
   "id": "1d069884-220b-493b-b549-987bdaf11a62",
   "metadata": {},
   "outputs": [
    {
     "name": "stdout",
     "output_type": "stream",
     "text": [
      "CipherText=718772285790260064376105735956716081339661587026033942716020138720137052066123576867171929554944\n"
     ]
    }
   ],
   "source": [
    "Plain=435134\n",
    "C=pow(Plain,e,N)\n",
    "print(f\"CipherText={C}\")"
   ]
  },
  {
   "cell_type": "code",
   "execution_count": 102,
   "id": "623ec553-7fe8-4b58-84cb-8f73d6d72038",
   "metadata": {},
   "outputs": [
    {
     "data": {
      "text/plain": [
       "435134"
      ]
     },
     "execution_count": 102,
     "metadata": {},
     "output_type": "execute_result"
    }
   ],
   "source": [
    "pow(C,d,N)"
   ]
  },
  {
   "cell_type": "code",
   "execution_count": 103,
   "id": "21790c14-7e91-474c-a4a3-b6f3e5acdf35",
   "metadata": {},
   "outputs": [],
   "source": [
    "def ConvertToInt(message):\n",
    "    \"\"\"\n",
    "    Convert a string into a single integer using base 256 encoding.\n",
    "\n",
    "    Each character in the string is treated as a \"digit\" in base 256, \n",
    "    where its ASCII value is used as the digit's value. The string is \n",
    "    processed in reverse to construct the number in the correct order.\n",
    "\n",
    "    Parameters:\n",
    "        message (str): The input string to convert.\n",
    "\n",
    "    Returns:\n",
    "        int: The encoded integer representing the string.\n",
    "    \"\"\"\n",
    "    grd = 1  # Multiplier for the current \"digit's\" place in base 256\n",
    "    num = 0  # The resulting integer\n",
    "    message = message[::-1]  # Reverse the string to process least significant character first\n",
    "    \n",
    "    for i in range(len(message)):\n",
    "        # Add the ASCII value of the character times the current base multiplier\n",
    "        num += ord(message[i]) * grd\n",
    "        # Update the base multiplier for the next character\n",
    "        grd *= 256\n",
    "    \n",
    "    return num"
   ]
  },
  {
   "cell_type": "code",
   "execution_count": 104,
   "id": "a77bc31e-ba99-463f-9195-4ec523c42629",
   "metadata": {},
   "outputs": [],
   "source": [
    "def ConvertToText(num):\n",
    "    \"\"\"\n",
    "    Convert a number encoded in base 256 back to the original text.\n",
    "    \"\"\"\n",
    "    text = []\n",
    "    while num > 0:\n",
    "        # Extract the last 8 bits (the least significant \"base-256 digit\")\n",
    "        ascii_value = num % 256\n",
    "        # Convert this to the corresponding character\n",
    "        text.append(chr(ascii_value))\n",
    "        # Remove the last 8 bits by integer division\n",
    "        num //= 256\n",
    "    # Reverse the list to reconstruct the original order and join to a string\n",
    "    return ''.join(text[::-1])"
   ]
  },
  {
   "cell_type": "code",
   "execution_count": 105,
   "id": "bde5a3e7-0a81-4977-8fb7-5f85d6d0bef4",
   "metadata": {},
   "outputs": [],
   "source": [
    "plain=ConvertToInt(\"The quick brown fox\")"
   ]
  },
  {
   "cell_type": "code",
   "execution_count": 106,
   "id": "cb1c29e2-22f4-4fb8-a719-4346e427858c",
   "metadata": {},
   "outputs": [],
   "source": [
    "cipher=pow(plain,e,N)"
   ]
  },
  {
   "cell_type": "code",
   "execution_count": 107,
   "id": "d221b167-492b-465d-aa93-a0f715dac1d9",
   "metadata": {},
   "outputs": [
    {
     "data": {
      "text/plain": [
       "1882356686056941226106017686193136471883804536"
      ]
     },
     "execution_count": 107,
     "metadata": {},
     "output_type": "execute_result"
    }
   ],
   "source": [
    "temp=pow(cipher,d,N)\n",
    "temp"
   ]
  },
  {
   "cell_type": "code",
   "execution_count": 108,
   "id": "1f8a1405-cbbd-466c-8247-c89ce1f7cf70",
   "metadata": {},
   "outputs": [
    {
     "data": {
      "text/plain": [
       "'The quick brown fox'"
      ]
     },
     "execution_count": 108,
     "metadata": {},
     "output_type": "execute_result"
    }
   ],
   "source": [
    "ConvertToText(temp)"
   ]
  }
 ],
 "metadata": {
  "kernelspec": {
   "display_name": "Python 3 (ipykernel)",
   "language": "python",
   "name": "python3"
  },
  "language_info": {
   "codemirror_mode": {
    "name": "ipython",
    "version": 3
   },
   "file_extension": ".py",
   "mimetype": "text/x-python",
   "name": "python",
   "nbconvert_exporter": "python",
   "pygments_lexer": "ipython3",
   "version": "3.11.8"
  }
 },
 "nbformat": 4,
 "nbformat_minor": 5
}
