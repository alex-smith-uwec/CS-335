{
 "cells": [
  {
   "cell_type": "code",
   "execution_count": 1,
   "id": "ae354311-823c-4e97-baba-409869348082",
   "metadata": {},
   "outputs": [],
   "source": [
    "import insertion_sort as insert\n",
    "import merge_sort as merge\n",
    "import random\n",
    "import time"
   ]
  },
  {
   "cell_type": "code",
   "execution_count": 10,
   "id": "7406d4eb-3c21-41c5-a325-a108a80b3023",
   "metadata": {},
   "outputs": [],
   "source": [
    "length=100000\n",
    "spread=length//5\n",
    "data_list = [random.randint(1, length) for _ in range(spread)]\n",
    " # print(data_list[0:20])\n"
   ]
  },
  {
   "cell_type": "code",
   "execution_count": 11,
   "id": "e4894ec1-a746-4e43-995a-012dce27dab3",
   "metadata": {},
   "outputs": [
    {
     "name": "stdout",
     "output_type": "stream",
     "text": [
      "Execution time for Insertion Sort: 3.859746217727661 seconds\n"
     ]
    }
   ],
   "source": [
    "start_time = time.time()\n",
    "\n",
    "# Execute the merge sort function\n",
    "sorted_list = insert.insertion_sort(data_list)\n",
    "\n",
    "# Stop the timer\n",
    "end_time = time.time()\n",
    "\n",
    "insertion_time = end_time - start_time\n",
    "\n",
    "print(f\"Execution time for Insertion Sort: {insertion_time} seconds\")"
   ]
  },
  {
   "cell_type": "code",
   "execution_count": 12,
   "id": "90ecfe1b-99f5-467a-b11d-04691ab5883c",
   "metadata": {},
   "outputs": [
    {
     "name": "stdout",
     "output_type": "stream",
     "text": [
      "Execution time for Merge Sort: 0.019436120986938477 seconds\n"
     ]
    }
   ],
   "source": [
    "start_time = time.time()\n",
    "\n",
    "# Execute the merge sort function\n",
    "sorted_list = merge.merge_sort(data_list)\n",
    "\n",
    "# Stop the timer\n",
    "end_time = time.time()\n",
    "merge_time = end_time - start_time\n",
    "\n",
    "print(f\"Execution time for Merge Sort: {merge_time} seconds\")"
   ]
  },
  {
   "cell_type": "code",
   "execution_count": 13,
   "id": "f615af04-6637-40b0-924f-7f509dd7cd5f",
   "metadata": {},
   "outputs": [
    {
     "data": {
      "text/plain": [
       "198.58624158192367"
      ]
     },
     "execution_count": 13,
     "metadata": {},
     "output_type": "execute_result"
    }
   ],
   "source": [
    "insertion_time/merge_time"
   ]
  },
  {
   "cell_type": "code",
   "execution_count": null,
   "id": "3436104c-b8c7-49c7-ac61-1697bc656d27",
   "metadata": {},
   "outputs": [],
   "source": []
  }
 ],
 "metadata": {
  "kernelspec": {
   "display_name": "Python 3 (ipykernel)",
   "language": "python",
   "name": "python3"
  },
  "language_info": {
   "codemirror_mode": {
    "name": "ipython",
    "version": 3
   },
   "file_extension": ".py",
   "mimetype": "text/x-python",
   "name": "python",
   "nbconvert_exporter": "python",
   "pygments_lexer": "ipython3",
   "version": "3.11.8"
  }
 },
 "nbformat": 4,
 "nbformat_minor": 5
}
