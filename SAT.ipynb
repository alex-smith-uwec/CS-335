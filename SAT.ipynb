{
 "cells": [
  {
   "cell_type": "code",
   "execution_count": 1,
   "id": "bf3be82f-466e-494c-b60d-0539d2b86348",
   "metadata": {},
   "outputs": [
    {
     "name": "stdout",
     "output_type": "stream",
     "text": [
      "Collecting python-sat\n",
      "  Downloading python_sat-1.8.dev13-cp311-cp311-macosx_14_0_arm64.whl.metadata (1.5 kB)\n",
      "Requirement already satisfied: six in /opt/anaconda3/lib/python3.11/site-packages (from python-sat) (1.16.0)\n",
      "Downloading python_sat-1.8.dev13-cp311-cp311-macosx_14_0_arm64.whl (1.6 MB)\n",
      "\u001b[2K   \u001b[90m━━━━━━━━━━━━━━━━━━━━━━━━━━━━━━━━━━━━━━━━\u001b[0m \u001b[32m1.6/1.6 MB\u001b[0m \u001b[31m20.8 MB/s\u001b[0m eta \u001b[36m0:00:00\u001b[0ma \u001b[36m0:00:01\u001b[0m\n",
      "\u001b[?25hInstalling collected packages: python-sat\n",
      "Successfully installed python-sat-1.8.dev13\n"
     ]
    }
   ],
   "source": [
    "!pip install python-sat\n"
   ]
  },
  {
   "cell_type": "code",
   "execution_count": 9,
   "id": "308314bf-e77b-4ac6-9349-807c61974d54",
   "metadata": {},
   "outputs": [],
   "source": [
    "from pysat.solvers import Glucose4\n"
   ]
  },
  {
   "cell_type": "code",
   "execution_count": 10,
   "id": "bb0fd5e0-a8e4-4c59-b594-4abbbea79977",
   "metadata": {},
   "outputs": [],
   "source": [
    "# Example CNF: (x1 OR ¬x3) AND (¬x1 OR x2) AND (x3)\n",
    "clauses = [[1, -2,3], [-1, 2,-3], [1,2,-3]]"
   ]
  },
  {
   "cell_type": "code",
   "execution_count": 11,
   "id": "d153d229-62a1-4ae9-96ef-8ab08ef570c5",
   "metadata": {},
   "outputs": [
    {
     "name": "stdout",
     "output_type": "stream",
     "text": [
      "SAT: True\n",
      "Model: [-1, -2, -3]\n"
     ]
    }
   ],
   "source": [
    "# Create a solver instance\n",
    "solver = Glucose4()\n",
    "for clause in clauses:\n",
    "    solver.add_clause(clause)\n",
    "\n",
    "# Check for satisfiability\n",
    "is_sat = solver.solve()\n",
    "print(\"SAT:\", is_sat)\n",
    "\n",
    "if is_sat:\n",
    "    model = solver.get_model()\n",
    "    print(\"Model:\", model)\n",
    "    # model is a list of assigned literals. A positive integer means variable is True, negative means False.\n",
    "\n",
    "solver.delete()  # Free solver resources\n"
   ]
  },
  {
   "cell_type": "code",
   "execution_count": 15,
   "id": "92bf63b7-9e9c-4538-a5d6-3c011cf41a2e",
   "metadata": {},
   "outputs": [
    {
     "name": "stdout",
     "output_type": "stream",
     "text": [
      "Random CNF formula: [[1, -8, -4], [4, -6, -10], [1, -2, 5], [-7, -2, 5], [-2, -1, 7]]\n"
     ]
    }
   ],
   "source": [
    "import random\n",
    "\n",
    "def generate_random_clause(num_vars, clause_size):\n",
    "    # Choose `clause_size` distinct variables from 1 to num_vars\n",
    "    variables = random.sample(range(1, num_vars+1), clause_size)\n",
    "    # Randomly negate each variable with 50% probability\n",
    "    clause = [var if random.random() < 0.5 else -var for var in variables]\n",
    "    return clause\n",
    "\n",
    "def generate_random_cnf(num_vars=5, num_clauses=3, clause_size=3):\n",
    "    cnf = []\n",
    "    for _ in range(num_clauses):\n",
    "        clause = generate_random_clause(num_vars, clause_size)\n",
    "        cnf.append(clause)\n",
    "    return cnf\n",
    "\n",
    "# Example usage:\n",
    "random_cnf = generate_random_cnf(num_vars=10, num_clauses=5, clause_size=3)\n",
    "print(\"Random CNF formula:\", random_cnf)\n"
   ]
  },
  {
   "cell_type": "code",
   "execution_count": 16,
   "id": "b60b517e-aae9-4529-a3de-7d2d28319d7c",
   "metadata": {},
   "outputs": [
    {
     "data": {
      "text/plain": [
       "[[1, -8, -4], [4, -6, -10], [1, -2, 5], [-7, -2, 5], [-2, -1, 7]]"
      ]
     },
     "execution_count": 16,
     "metadata": {},
     "output_type": "execute_result"
    }
   ],
   "source": [
    "random_cnf"
   ]
  },
  {
   "cell_type": "code",
   "execution_count": 17,
   "id": "5ddb5ea0-843d-42c4-8db0-865323c59c7b",
   "metadata": {},
   "outputs": [
    {
     "name": "stdout",
     "output_type": "stream",
     "text": [
      "SAT: True\n",
      "Model: [-1, -2, -3, -4, -5, -6, -7, -8, -9, -10]\n"
     ]
    }
   ],
   "source": [
    "# Create a solver instance\n",
    "solver = Glucose4()\n",
    "for clause in random_cnf:\n",
    "    solver.add_clause(clause)\n",
    "\n",
    "# Check for satisfiability\n",
    "is_sat = solver.solve()\n",
    "print(\"SAT:\", is_sat)\n",
    "\n",
    "if is_sat:\n",
    "    model = solver.get_model()\n",
    "    print(\"Model:\", model)\n",
    "    # model is a list of assigned literals. A positive integer means variable is True, negative means False.\n",
    "\n",
    "solver.delete()"
   ]
  },
  {
   "cell_type": "code",
   "execution_count": null,
   "id": "1bb8585a-5c54-463e-b4dd-995aba5bf6d3",
   "metadata": {},
   "outputs": [],
   "source": []
  }
 ],
 "metadata": {
  "kernelspec": {
   "display_name": "Python 3 (ipykernel)",
   "language": "python",
   "name": "python3"
  },
  "language_info": {
   "codemirror_mode": {
    "name": "ipython",
    "version": 3
   },
   "file_extension": ".py",
   "mimetype": "text/x-python",
   "name": "python",
   "nbconvert_exporter": "python",
   "pygments_lexer": "ipython3",
   "version": "3.11.8"
  }
 },
 "nbformat": 4,
 "nbformat_minor": 5
}
