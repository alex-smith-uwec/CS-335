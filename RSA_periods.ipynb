{
 "cells": [
  {
   "cell_type": "code",
   "execution_count": 1,
   "id": "bca0d0bb-937c-4699-86f4-b57d67a032c6",
   "metadata": {},
   "outputs": [],
   "source": [
    "import math\n",
    "import random\n",
    "import pandas as pd\n",
    "import numpy as np\n",
    "import matplotlib.pyplot as plt\n",
    "from sympy import nextprime"
   ]
  },
  {
   "cell_type": "code",
   "execution_count": 2,
   "id": "fb7bd2e9-9ebf-42cf-871b-2d5471e34fe7",
   "metadata": {},
   "outputs": [],
   "source": [
    "# Function to compute gcd\n",
    "def gcd(a, b):\n",
    "    while b:\n",
    "        a, b = b, a % b\n",
    "    return a\n"
   ]
  },
  {
   "cell_type": "code",
   "execution_count": 3,
   "id": "aec0691c-fcc8-4728-876c-9cfc95aedeb0",
   "metadata": {},
   "outputs": [
    {
     "data": {
      "text/plain": [
       "77"
      ]
     },
     "execution_count": 3,
     "metadata": {},
     "output_type": "execute_result"
    }
   ],
   "source": [
    "p=7\n",
    "q=11\n",
    "N=p*q\n",
    "N\n"
   ]
  },
  {
   "cell_type": "code",
   "execution_count": 4,
   "id": "bdd79e7b-3b83-405d-bb14-54a1d294d445",
   "metadata": {},
   "outputs": [],
   "source": [
    "# Function to generate values of pow(a, k, N)\n",
    "def compute_powers(N, num_a=10, num_k=20):\n",
    "    a_values = []  \n",
    "    \n",
    "    # Generate values of a such that gcd(a, N) = 1\n",
    "    while len(a_values) < num_a:\n",
    "        a = random.randint(2, N - 1)\n",
    "        if gcd(a, N) == 1:\n",
    "            a_values.append(a)\n",
    "    \n",
    "    # Compute pow(a, k, N) for each a and k\n",
    "    results = {}\n",
    "    for a in a_values:\n",
    "        results[a] = [pow(a, k, N) for k in range(1, num_k + 1)]\n",
    "    \n",
    "    return N, a_values, results"
   ]
  },
  {
   "cell_type": "code",
   "execution_count": 5,
   "id": "97ed1d1f-8f40-4f65-a024-8501754e735a",
   "metadata": {},
   "outputs": [
    {
     "name": "stdout",
     "output_type": "stream",
     "text": [
      "      a=19  a=67  a=51  a=8\n",
      "k=1     19    67    51    8\n",
      "k=2     53    23    60   64\n",
      "k=3      6     1    57   50\n",
      "k=4     37    67    58   15\n",
      "k=5     10    23    32   43\n",
      "k=6     36     1    15   36\n",
      "k=7     68    67    72   57\n",
      "k=8     60    23    53   71\n",
      "k=9     62     1     8   29\n",
      "k=10    23    67    23    1\n",
      "k=11    52    23    18    8\n",
      "k=12    64     1    71   64\n",
      "k=13    61    67     2   50\n",
      "k=14     4    23    25   15\n",
      "k=15    76     1    43   43\n",
      "k=16    58    67    37   36\n",
      "k=17    24    23    39   57\n",
      "k=18    71     1    64   71\n",
      "k=19    40    67    30   29\n",
      "k=20    67    23    67    1\n",
      "k=21    41     1    29    8\n",
      "k=22     9    67    16   64\n",
      "k=23    17    23    46   50\n",
      "k=24    15     1    36   15\n",
      "k=25    54    67    65   43\n",
      "k=26    25    23     4   36\n",
      "k=27    13     1    50   57\n",
      "k=28    16    67     9   71\n",
      "k=29    73    23    74   29\n",
      "k=30     1     1     1    1\n",
      "k=31    19    67    51    8\n",
      "k=32    53    23    60   64\n",
      "k=33     6     1    57   50\n",
      "k=34    37    67    58   15\n",
      "k=35    10    23    32   43\n",
      "k=36    36     1    15   36\n",
      "k=37    68    67    72   57\n",
      "k=38    60    23    53   71\n",
      "k=39    62     1     8   29\n",
      "k=40    23    67    23    1\n",
      "k=41    52    23    18    8\n",
      "k=42    64     1    71   64\n",
      "k=43    61    67     2   50\n",
      "k=44     4    23    25   15\n",
      "k=45    76     1    43   43\n",
      "k=46    58    67    37   36\n",
      "k=47    24    23    39   57\n",
      "k=48    71     1    64   71\n",
      "k=49    40    67    30   29\n",
      "k=50    67    23    67    1\n",
      "k=51    41     1    29    8\n",
      "k=52     9    67    16   64\n",
      "k=53    17    23    46   50\n",
      "k=54    15     1    36   15\n",
      "k=55    54    67    65   43\n",
      "k=56    25    23     4   36\n",
      "k=57    13     1    50   57\n",
      "k=58    16    67     9   71\n",
      "k=59    73    23    74   29\n",
      "k=60     1     1     1    1\n"
     ]
    }
   ],
   "source": [
    "\n",
    "num_a=4\n",
    "num_k=(p-1)*(q-1)\n",
    "\n",
    "\n",
    "\n",
    "# Call the function and extract results\n",
    "N, a_values, results = compute_powers(N, num_a=num_a, num_k=num_k)\n",
    "\n",
    "# Convert the results to a DataFrame\n",
    "df = pd.DataFrame(results, index=[f\"k={i+1}\" for i in range(num_k)])\n",
    "df.columns = [f\"a={a}\" for a in a_values]\n",
    "\n",
    "# Display the DataFrame\n",
    "pd.set_option('display.max_rows', None)\n",
    "print(df)\n",
    "\n",
    "\n"
   ]
  },
  {
   "cell_type": "code",
   "execution_count": 6,
   "id": "5fd00edb-7900-4abb-a139-7f3748f59c09",
   "metadata": {},
   "outputs": [
    {
     "data": {
      "text/plain": [
       "31877"
      ]
     },
     "execution_count": 6,
     "metadata": {},
     "output_type": "execute_result"
    }
   ],
   "source": [
    "# p=nextprime(120)\n",
    "# q=nextprime(250)\n",
    "# N=p*q\n",
    "# N"
   ]
  },
  {
   "cell_type": "code",
   "execution_count": 10,
   "id": "dddd5a10-1190-4c23-8402-c98c977ac8b9",
   "metadata": {},
   "outputs": [
    {
     "name": "stdout",
     "output_type": "stream",
     "text": [
      "The power of 2 between 5929 and 11858 is 8192\n"
     ]
    }
   ],
   "source": [
    "##Choice of q: see page 16 of Shor's paper\n",
    "def find_power_of_2_binary(N):\n",
    "    lower_bound = N**2\n",
    "    upper_bound = 2 * N**2\n",
    "    \n",
    "    # Compute the smallest power of 2 greater than or equal to N\n",
    "    power_of_2 = 1 << (N**2 - 1).bit_length()  # This calculates 2^ceil(log2(N))\n",
    "    \n",
    "    # Check if it's within the range\n",
    "    if power_of_2 < upper_bound:\n",
    "        return power_of_2\n",
    "    else:\n",
    "        return None  # No power of 2 within the range\n",
    "# Example usage\n",
    "\n",
    "result = find_power_of_2_binary(N)\n",
    "if result:\n",
    "    print(f\"The power of 2 between {N**2} and {2 * N**2} is {result}\")\n",
    "else:\n",
    "    print(f\"No power of 2 lies between {N**2} and {2 * N**2}\")\n"
   ]
  },
  {
   "cell_type": "code",
   "execution_count": 7,
   "id": "15f302f2-57e7-468d-990c-d71f353aa193",
   "metadata": {},
   "outputs": [],
   "source": [
    "a=2\n",
    "Q=find_power_of_2_binary(N)\n",
    "pow_seq=[pow(a, j, N) for j in range(Q)]"
   ]
  },
  {
   "cell_type": "code",
   "execution_count": 8,
   "id": "d2ed119b-0042-4054-95da-0a56582c12fe",
   "metadata": {},
   "outputs": [],
   "source": [
    "fft_result=np.fft.fft(pow_seq)"
   ]
  },
  {
   "cell_type": "code",
   "execution_count": 14,
   "id": "8331a7ec-4f9b-47bb-8685-84d9770ee8fa",
   "metadata": {},
   "outputs": [
    {
     "data": {
      "image/png": "[encoded data removed]",
      "text/plain": [
       "<Figure size 640x480 with 1 Axes>"
      ]
     },
     "metadata": {},
     "output_type": "display_data"
    }
   ],
   "source": [
    "# Compute frequency bins\n",
    "q= len(pow_seq)                      # Number of points in the signal\n",
    "T = 1.0 / 10                     # Sampling interval (adjust based on your data)\n",
    "freqs = np.fft.fftfreq(q, T)       # Frequency bins\n",
    "\n",
    "plt.plot(freqs[:q // 2], np.abs(fft_result)[:q // 2])\n",
    "plt.title(\"FFT Magnitude Spectrum\")\n",
    "plt.xlabel(\"Frequency (Hz)\")\n",
    "plt.ylabel(\"Magnitude\")\n",
    "plt.grid()\n",
    "plt.show()\n"
   ]
  },
  {
   "cell_type": "code",
   "execution_count": null,
   "id": "0f4772a5-d2a0-4d02-9950-a6127e54a4aa",
   "metadata": {},
   "outputs": [],
   "source": [
    "# pow_seq"
   ]
  },
  {
   "cell_type": "code",
   "execution_count": null,
   "id": "9b9b9c25-3179-4af2-8c66-5fc16dae488e",
   "metadata": {},
   "outputs": [],
   "source": []
  }
 ],
 "metadata": {
  "kernelspec": {
   "display_name": "Python 3 (ipykernel)",
   "language": "python",
   "name": "python3"
  },
  "language_info": {
   "codemirror_mode": {
    "name": "ipython",
    "version": 3
   },
   "file_extension": ".py",
   "mimetype": "text/x-python",
   "name": "python",
   "nbconvert_exporter": "python",
   "pygments_lexer": "ipython3",
   "version": "3.11.8"
  }
 },
 "nbformat": 4,
 "nbformat_minor": 5
}
