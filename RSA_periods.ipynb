{
 "cells": [
  {
   "cell_type": "code",
   "execution_count": 2,
   "id": "bca0d0bb-937c-4699-86f4-b57d67a032c6",
   "metadata": {},
   "outputs": [],
   "source": [
    "import math\n",
    "import random\n",
    "import pandas as pd"
   ]
  },
  {
   "cell_type": "code",
   "execution_count": 3,
   "id": "fb7bd2e9-9ebf-42cf-871b-2d5471e34fe7",
   "metadata": {},
   "outputs": [],
   "source": [
    "# Function to compute gcd\n",
    "def gcd(a, b):\n",
    "    while b:\n",
    "        a, b = b, a % b\n",
    "    return a\n"
   ]
  },
  {
   "cell_type": "code",
   "execution_count": 40,
   "id": "aec0691c-fcc8-4728-876c-9cfc95aedeb0",
   "metadata": {},
   "outputs": [
    {
     "data": {
      "text/plain": [
       "77"
      ]
     },
     "execution_count": 40,
     "metadata": {},
     "output_type": "execute_result"
    }
   ],
   "source": [
    "p=7\n",
    "q=11\n",
    "N=p*q\n",
    "N\n"
   ]
  },
  {
   "cell_type": "code",
   "execution_count": 41,
   "id": "bdd79e7b-3b83-405d-bb14-54a1d294d445",
   "metadata": {},
   "outputs": [],
   "source": [
    "# Function to generate values of pow(a, k, N)\n",
    "def compute_powers(N, num_a=10, num_k=20):\n",
    "    a_values = []  \n",
    "    \n",
    "    # Generate values of a such that gcd(a, N) = 1\n",
    "    while len(a_values) < num_a:\n",
    "        a = random.randint(2, N - 1)\n",
    "        if gcd(a, N) == 1:\n",
    "            a_values.append(a)\n",
    "    \n",
    "    # Compute pow(a, k, N) for each a and k\n",
    "    results = {}\n",
    "    for a in a_values:\n",
    "        results[a] = [pow(a, k, N) for k in range(1, num_k + 1)]\n",
    "    \n",
    "    return N, a_values, results"
   ]
  },
  {
   "cell_type": "code",
   "execution_count": 42,
   "id": "97ed1d1f-8f40-4f65-a024-8501754e735a",
   "metadata": {},
   "outputs": [
    {
     "name": "stdout",
     "output_type": "stream",
     "text": [
      "      a=51  a=39  a=45  a=15  a=20  a=43  a=41  a=72  a=52  a=71\n",
      "k=1     51    39    45    15    20    43    41    72    52    71\n",
      "k=2     60    58    23    71    15     1    64    25     9    36\n",
      "k=3     57    29    34    64    69    43     6    29     6    15\n",
      "k=4     58    53    67    36    71     1    15     9     4    64\n",
      "k=5     32    65    12     1    34    43    76    32    54     1\n",
      "k=6     15    71     1    15    64     1    36    71    36    71\n",
      "k=7     72    74    45    71    48    43    13    30    24    36\n",
      "k=8     53    37    23    64    36     1    71     4    16    15\n",
      "k=9      8    57    34    36    27    43    62    57    62    64\n",
      "k=10    23    67    67     1     1     1     1    23    67     1\n",
      "k=11    18    72    12    15    20    43    41    39    19    71\n",
      "k=12    71    36     1    71    15     1    64    36    64    36\n",
      "k=13     2    18    45    64    69    43     6    51    17    15\n",
      "k=14    25     9    23    36    71     1    15    53    37    64\n",
      "k=15    43    43    34     1    34    43    76    43    76     1\n",
      "k=16    37    60    67    15    64     1    36    16    25    71\n",
      "k=17    39    30    12    71    48    43    13    74    68    36\n",
      "k=18    64    15     1    64    36     1    71    15    71    15\n",
      "k=19    30    46    45    36    27    43    62     2    73    64\n",
      "k=20    67    23    23     1     1     1     1    67    23     1\n",
      "k=21    29    50    34    15    20    43    41    50    41    71\n",
      "k=22    16    25    67    71    15     1    64    58    53    36\n",
      "k=23    46    51    12    64    69    43     6    18    61    15\n",
      "k=24    36    64     1    36    71     1    15    64    15    64\n",
      "k=25    65    32    45     1    34    43    76    65    10     1\n",
      "k=26     4    16    23    15    64     1    36    60    58    71\n",
      "k=27    50     8    34    71    48    43    13     8    13    36\n",
      "k=28     9     4    67    64    36     1    71    37    60    15\n",
      "k=29    74     2    12    36    27    43    62    46    40    64\n",
      "k=30     1     1     1     1     1     1     1     1     1     1\n",
      "k=31    51    39    45    15    20    43    41    72    52    71\n",
      "k=32    60    58    23    71    15     1    64    25     9    36\n",
      "k=33    57    29    34    64    69    43     6    29     6    15\n",
      "k=34    58    53    67    36    71     1    15     9     4    64\n",
      "k=35    32    65    12     1    34    43    76    32    54     1\n",
      "k=36    15    71     1    15    64     1    36    71    36    71\n",
      "k=37    72    74    45    71    48    43    13    30    24    36\n",
      "k=38    53    37    23    64    36     1    71     4    16    15\n",
      "k=39     8    57    34    36    27    43    62    57    62    64\n",
      "k=40    23    67    67     1     1     1     1    23    67     1\n",
      "k=41    18    72    12    15    20    43    41    39    19    71\n",
      "k=42    71    36     1    71    15     1    64    36    64    36\n",
      "k=43     2    18    45    64    69    43     6    51    17    15\n",
      "k=44    25     9    23    36    71     1    15    53    37    64\n",
      "k=45    43    43    34     1    34    43    76    43    76     1\n",
      "k=46    37    60    67    15    64     1    36    16    25    71\n",
      "k=47    39    30    12    71    48    43    13    74    68    36\n",
      "k=48    64    15     1    64    36     1    71    15    71    15\n",
      "k=49    30    46    45    36    27    43    62     2    73    64\n",
      "k=50    67    23    23     1     1     1     1    67    23     1\n",
      "k=51    29    50    34    15    20    43    41    50    41    71\n",
      "k=52    16    25    67    71    15     1    64    58    53    36\n",
      "k=53    46    51    12    64    69    43     6    18    61    15\n",
      "k=54    36    64     1    36    71     1    15    64    15    64\n",
      "k=55    65    32    45     1    34    43    76    65    10     1\n",
      "k=56     4    16    23    15    64     1    36    60    58    71\n",
      "k=57    50     8    34    71    48    43    13     8    13    36\n",
      "k=58     9     4    67    64    36     1    71    37    60    15\n",
      "k=59    74     2    12    36    27    43    62    46    40    64\n",
      "k=60     1     1     1     1     1     1     1     1     1     1\n"
     ]
    }
   ],
   "source": [
    "\n",
    "num_a=10\n",
    "num_k=(p-1)*(q-1)\n",
    "\n",
    "\n",
    "\n",
    "# Call the function and extract results\n",
    "N, a_values, results = compute_powers(N, num_a=num_a, num_k=num_k)\n",
    "\n",
    "# Convert the results to a DataFrame\n",
    "df = pd.DataFrame(results, index=[f\"k={i+1}\" for i in range(num_k)])\n",
    "df.columns = [f\"a={a}\" for a in a_values]\n",
    "\n",
    "# Display the DataFrame\n",
    "pd.set_option('display.max_rows', None)\n",
    "print(df)\n",
    "\n",
    "\n"
   ]
  },
  {
   "cell_type": "code",
   "execution_count": 43,
   "id": "24b02167-4c40-42d5-80ea-835d18091bb1",
   "metadata": {},
   "outputs": [
    {
     "data": {
      "text/plain": [
       "1"
      ]
     },
     "execution_count": 43,
     "metadata": {},
     "output_type": "execute_result"
    }
   ],
   "source": [
    "pow(20,10,N)"
   ]
  },
  {
   "cell_type": "code",
   "execution_count": 46,
   "id": "568c1c5e-b217-47df-b922-e4e195543fbf",
   "metadata": {},
   "outputs": [
    {
     "data": {
      "text/plain": [
       "34"
      ]
     },
     "execution_count": 46,
     "metadata": {},
     "output_type": "execute_result"
    }
   ],
   "source": [
    "pow(20,5,N)"
   ]
  },
  {
   "cell_type": "code",
   "execution_count": 47,
   "id": "9dc69cc1-bcb4-4ee2-9159-1ed28037fddf",
   "metadata": {},
   "outputs": [
    {
     "data": {
      "text/plain": [
       "11"
      ]
     },
     "execution_count": 47,
     "metadata": {},
     "output_type": "execute_result"
    }
   ],
   "source": [
    "gcd((34-10)*(34+10),N)"
   ]
  },
  {
   "cell_type": "code",
   "execution_count": null,
   "id": "eaee1b94-ce71-4d4e-be69-ab4ed219ed10",
   "metadata": {},
   "outputs": [],
   "source": []
  }
 ],
 "metadata": {
  "kernelspec": {
   "display_name": "Python 3 (ipykernel)",
   "language": "python",
   "name": "python3"
  },
  "language_info": {
   "codemirror_mode": {
    "name": "ipython",
    "version": 3
   },
   "file_extension": ".py",
   "mimetype": "text/x-python",
   "name": "python",
   "nbconvert_exporter": "python",
   "pygments_lexer": "ipython3",
   "version": "3.11.8"
  }
 },
 "nbformat": 4,
 "nbformat_minor": 5
}
